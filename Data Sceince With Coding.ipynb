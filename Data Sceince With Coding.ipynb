{
 "cells": [
  {
   "cell_type": "markdown",
   "id": "2977ee0b",
   "metadata": {},
   "source": [
    "# *Data Sceince*"
   ]
  },
  {
   "cell_type": "markdown",
   "id": "e6a16fcc",
   "metadata": {},
   "source": [
    "*Data science is the process of turning raw data into meaningful insights using mathematics, statistics, programming, and domain knowledge. It's about finding patterns, making predictions, and guiding decisions*"
   ]
  },
  {
   "cell_type": "markdown",
   "id": "bc5cb1f3",
   "metadata": {},
   "source": [
    "# *Programming*\n",
    "🧠 What Is Programming?\n",
    "\n",
    "Programming is the process of giving instructions to a computer so it can perform specific tasks.\n",
    "\n",
    "Think of it as:\n",
    "\n",
    "🗣️ You → translate your ideas into code → 💻 Computer understands and executes\n",
    "\n",
    "You're not just talking to machines—you're teaching them what to do, step by step.\n",
    "\n",
    "🔧 What Kinds of Things Can You Program?\n",
    "\n",
    "Calculations (math problems, scores)\n",
    "\n",
    "Games (like your Shadow Fighter idea 🎮)\n",
    "\n",
    "Data analysis tools (graphs, predictions)\n",
    "\n",
    "Chatbots & AI (your Python project!)\n",
    "\n",
    "Websites, apps, automation—you name it\n",
    "\n",
    "✨ In Other Words\n",
    "Programming is creative problem solving with logic and code.\n",
    "\n",
    "Just like an author writes a story with words, a programmer writes instructions with code. You're basically the director of digital behavior!"
   ]
  },
  {
   "cell_type": "markdown",
   "id": "f95d80aa",
   "metadata": {},
   "source": [
    "# *💻 What Is a Programming Language?*\n",
    "\n",
    "A programming language is how humans communicate with computers. It’s a set of rules and symbols used to write instructions that a computer can understand and follow.\n",
    "\n",
    "Think of it like this:\n",
    "\n",
    "Just like you use English to talk to people, you use Python, C++, or Java to talk to computers.\n",
    "\n",
    "🧠 Programming Languages \n",
    "Each one has its own style, strengths, and purpose:\n",
    "\n",
    "Language\tWhat It's Great For\n",
    "Python\tData science, AI, automation, web apps 🐍\n",
    "C++\tGames, high-performance apps, system software\n",
    "Java\tAndroid apps, enterprise systems\n",
    "JavaScript\tWebsites, interactivity, frontend/backend\n",
    "C#\tWindows apps, Unity game development\n",
    "and so on...............\n",
    "\n",
    "\n",
    "🐍 Why Python?\n",
    "\n",
    "Python is the most popular language today—and here’s why:\n",
    "\n",
    "✅ Simple syntax (reads like English)\n",
    "\n",
    "✅ Beginner-friendly but powerful\n",
    "\n",
    "✅ Massive libraries for AI, data, web, automation\n",
    "\n",
    "✅ Used by Google, NASA, Netflix, YouTube\n",
    "\n",
    "✅ Perfect for Jupyter Notebooks (like you’re using!)"
   ]
  },
  {
   "cell_type": "markdown",
   "id": "c11f58d9",
   "metadata": {},
   "source": [
    "*Coding*"
   ]
  },
  {
   "cell_type": "code",
   "execution_count": 20,
   "id": "0408efa3",
   "metadata": {},
   "outputs": [
    {
     "name": "stdout",
     "output_type": "stream",
     "text": [
      "     Name  Age        City Profession  Experience (Years)  Rating\n",
      "0    King   25      Lahore     Doctor                   3     4.5\n",
      "1    Khan   30     Karachi   Engineer                   7     4.8\n",
      "2     Ali   22   Islamabad    Teacher                   2     4.2\n",
      "3    Qsim   28    Peshawar   Designer                   5     4.0\n",
      "4  Faheem   26      Quetta  Developer                   4     4.6\n",
      "5   Ahmed   24  Rawalpindi     Artist                   1     3.8\n",
      "6   Bilal   27      Multan    Manager                   6     4.7\n",
      "7    Zara   23  Faisalabad    Student                   0     4.1\n",
      "8  Fatima   29   Hyderabad     Writer                   3     4.3\n",
      "9   Usman   31     Sialkot    Analyst                   5     4.9\n"
     ]
    }
   ],
   "source": [
    "# Import pandas library\n",
    "import pandas as pd\n",
    "\n",
    "# Create a big dataset\n",
    "Data = {\n",
    "    'Name': ['King', 'Khan', 'Ali', 'Qsim', 'Faheem', 'Ahmed', 'Bilal', 'Zara', 'Fatima', 'Usman'],\n",
    "    'Age': [25, 30, 22, 28, 26, 24, 27, 23, 29, 31],\n",
    "    'City': ['Lahore', 'Karachi', 'Islamabad', 'Peshawar', 'Quetta', 'Rawalpindi', 'Multan', 'Faisalabad', 'Hyderabad', 'Sialkot'],\n",
    "    'Profession': ['Doctor', 'Engineer', 'Teacher', 'Designer', 'Developer', 'Artist', 'Manager', 'Student', 'Writer', 'Analyst'],\n",
    "    'Experience (Years)': [3, 7, 2, 5, 4, 1, 6, 0, 3, 5],\n",
    "    'Rating': [4.5, 4.8, 4.2, 4.0, 4.6, 3.8, 4.7, 4.1, 4.3, 4.9]\n",
    "}\n",
    "\n",
    "# Convert into DataFrame\n",
    "sm = pd.DataFrame(Data)\n",
    "\n",
    "# Print the DataFrame\n",
    "print(sm)\n"
   ]
  },
  {
   "cell_type": "markdown",
   "id": "7c60d76c",
   "metadata": {},
   "source": [
    "*Real Time Xlsx Importing*"
   ]
  },
  {
   "cell_type": "code",
   "execution_count": 22,
   "id": "b61b667b",
   "metadata": {},
   "outputs": [
    {
     "name": "stdout",
     "output_type": "stream",
     "text": [
      "                       Reports Folder Set Up         Unnamed: 1  \\\n",
      "0                             Grant Resource                NaN   \n",
      "1                                     Roles   View all records    \n",
      "2                 JK Test Role (MEAL & Prog)                  ✅   \n",
      "3   Claire Test MEAL Project Permission Role                  ✅   \n",
      "4        Claire Test Project Permission Role                  ✅   \n",
      "5                          Data Load Support                  ✅   \n",
      "6                     IRW ICT Infrastructure                  ✅   \n",
      "7                                        CEO                  ✅   \n",
      "8                      Family Member_TEST JK                  ❌   \n",
      "9               Implementation Partners_TEST                  ❌   \n",
      "10                        Family Member_TEST                  ❌   \n",
      "11                         Administrator (2)                  ✅   \n",
      "12               Implementation Partner_TEST                  ❌   \n",
      "13                         Country MEAL_TEST                  ✅   \n",
      "14                              IPD SMT TEST                  ✅   \n",
      "15                   Country Programmes_TEST                  ✅   \n",
      "\n",
      "         Unnamed: 2                     Unnamed: 3        Unnamed: 4  \\\n",
      "0               NaN                            NaN               NaN   \n",
      "1   Add any record   Display in the list of forms   Edit all Records   \n",
      "2                 ❌                              ✅                 ❌   \n",
      "3                 ❌                              ✅                 ❌   \n",
      "4                 ❌                              ✅                 ❌   \n",
      "5                 ❌                              ✅                 ❌   \n",
      "6                 ✅                              ✅                 ✅   \n",
      "7                 ✅                              ✅                 ✅   \n",
      "8                 ❌                              ❌                 ❌   \n",
      "9                 ❌                              ❌                 ❌   \n",
      "10                ❌                              ❌                 ❌   \n",
      "11                ✅                              ✅                 ✅   \n",
      "12                ❌                              ❌                 ❌   \n",
      "13                ❌                              ✅                 ❌   \n",
      "14                ❌                              ✅                 ❌   \n",
      "15                ❌                              ✅                 ❌   \n",
      "\n",
      "            Unnamed: 5       Unnamed: 6      Unnamed: 7        Unnamed: 8  \\\n",
      "0                  NaN              NaN             NaN               NaN   \n",
      "1   Delete any record   Export records   Share Reports   Publish Reports    \n",
      "2                    ❌                ✅               ❌                 ❌   \n",
      "3                    ❌                ✅               ❌                 ❌   \n",
      "4                    ❌                ✅               ❌                 ❌   \n",
      "5                    ❌                ✅               ❌                 ❌   \n",
      "6                    ✅                ✅               ❌                 ✅   \n",
      "7                    ✅                ✅               ❌                 ✅   \n",
      "8                    ❌                ❌               ❌                 ❌   \n",
      "9                    ❌                ❌               ❌                 ❌   \n",
      "10                   ❌                ❌               ❌                 ❌   \n",
      "11                   ✅                ✅               ❌                 ✅   \n",
      "12                   ❌                ❌               ❌                 ❌   \n",
      "13                   ❌                ✅               ❌                 ❌   \n",
      "14                   ❌                ✅               ❌                 ❌   \n",
      "15                   ❌                ✅               ❌                 ❌   \n",
      "\n",
      "                        Unnamed: 9                    Unnamed: 10  \\\n",
      "0                              NaN                            NaN   \n",
      "1   Add Forms, Folders and Reports  Edit Forms, Folders, Reports    \n",
      "2                                ❌                              ❌   \n",
      "3                                ❌                              ❌   \n",
      "4                                ❌                              ❌   \n",
      "5                                ❌                              ❌   \n",
      "6                                ✅                              ✅   \n",
      "7                                ✅                              ✅   \n",
      "8                                ❌                              ❌   \n",
      "9                                ❌                              ❌   \n",
      "10                               ❌                              ❌   \n",
      "11                               ✅                              ✅   \n",
      "12                               ❌                              ❌   \n",
      "13                               ❌                              ❌   \n",
      "14                               ❌                              ❌   \n",
      "15                               ❌                              ❌   \n",
      "\n",
      "                       Unnamed: 11 Unnamed: 12  \n",
      "0                              NaN         NaN  \n",
      "1   Delete Forms, Floders, Reports         NaN  \n",
      "2                                ❌         NaN  \n",
      "3                                ❌         NaN  \n",
      "4                                ❌         NaN  \n",
      "5                                ❌         NaN  \n",
      "6                                ✅         NaN  \n",
      "7                                ✅         NaN  \n",
      "8                                ❌         NaN  \n",
      "9                                ❌         NaN  \n",
      "10                               ❌         NaN  \n",
      "11                               ✅         NaN  \n",
      "12                               ❌           ❌  \n",
      "13                               ❌         NaN  \n",
      "14                               ❌         NaN  \n",
      "15                               ❌         NaN  \n"
     ]
    }
   ],
   "source": [
    "# Real Xlsx file path\n",
    "import pandas as pd\n",
    "\n",
    "\n",
    "# Read an Excel file\n",
    "df = pd.read_excel(r'C:\\Users\\This PC\\Documents\\Reports Folder.xlsx')\n",
    "\n",
    "\n",
    "# Display the DataFrame read from Excel\n",
    "print(df \n",
    "       \n",
    "       \n",
    "       )"
   ]
  },
  {
   "cell_type": "markdown",
   "id": "718b3c00",
   "metadata": {},
   "source": [
    "*Cleaning the Data*\n"
   ]
  },
  {
   "cell_type": "code",
   "execution_count": 10,
   "id": "83e8d49f",
   "metadata": {},
   "outputs": [
    {
     "name": "stdout",
     "output_type": "stream",
     "text": [
      "     Name  Age        City Profession  Experience (Years)  Rating\n",
      "0    King   25      Lahore     Doctor                   3     4.5\n",
      "1    Khan   30     Karachi   Engineer                   7     4.8\n",
      "2     Ali   22   Islamabad    Teacher                   2     4.2\n",
      "3    Qsim   28    Peshawar   Designer                   5     4.0\n",
      "4  Faheem   26      Quetta  Developer                   4     4.6\n",
      "5   Ahmed   24  Rawalpindi     Artist                   1     3.8\n",
      "6   Bilal   27      Multan    Manager                   6     4.7\n",
      "7    Zara   23  Faisalabad    Student                   0     4.1\n",
      "8  Fatima   29   Hyderabad     Writer                   3     4.3\n",
      "9   Usman   31     Sialkot    Analyst                   5     4.9\n"
     ]
    }
   ],
   "source": [
    "# Cleaning the DataFrame\n",
    "df.dropna(axis=0, inplace=True)\n",
    "print(sm\n",
    "      \n",
    "      )\n"
   ]
  },
  {
   "cell_type": "markdown",
   "id": "c22708e5",
   "metadata": {},
   "source": [
    "*Functions*"
   ]
  },
  {
   "cell_type": "code",
   "execution_count": 11,
   "id": "e07e7aff",
   "metadata": {},
   "outputs": [
    {
     "name": "stdout",
     "output_type": "stream",
     "text": [
      "<class 'pandas.core.frame.DataFrame'>\n",
      "RangeIndex: 10 entries, 0 to 9\n",
      "Data columns (total 6 columns):\n",
      " #   Column              Non-Null Count  Dtype  \n",
      "---  ------              --------------  -----  \n",
      " 0   Name                10 non-null     object \n",
      " 1   Age                 10 non-null     int64  \n",
      " 2   City                10 non-null     object \n",
      " 3   Profession          10 non-null     object \n",
      " 4   Experience (Years)  10 non-null     int64  \n",
      " 5   Rating              10 non-null     float64\n",
      "dtypes: float64(1), int64(2), object(3)\n",
      "memory usage: 612.0+ bytes\n",
      "None\n"
     ]
    }
   ],
   "source": [
    "# We can use the info() function to list the data types within our data set: \n",
    "print(sm.info())"
   ]
  },
  {
   "cell_type": "markdown",
   "id": "f8a6604c",
   "metadata": {},
   "source": [
    "*Simple_Analysing*"
   ]
  },
  {
   "cell_type": "code",
   "execution_count": 13,
   "id": "f6e463b7",
   "metadata": {},
   "outputs": [
    {
     "name": "stdout",
     "output_type": "stream",
     "text": [
      "            Age  Experience (Years)     Rating\n",
      "count  10.00000           10.000000  10.000000\n",
      "mean   26.50000            3.600000   4.390000\n",
      "std     3.02765            2.221111   0.366515\n",
      "min    22.00000            0.000000   3.800000\n",
      "25%    24.25000            2.250000   4.125000\n",
      "50%    26.50000            3.500000   4.400000\n",
      "75%    28.75000            5.000000   4.675000\n",
      "max    31.00000            7.000000   4.900000\n"
     ]
    }
   ],
   "source": [
    "# Analyse Data\n",
    "print(sm.describe())\n"
   ]
  },
  {
   "cell_type": "markdown",
   "id": "50f5390d",
   "metadata": {},
   "source": [
    "*Simple Visuilizing*"
   ]
  },
  {
   "cell_type": "code",
   "execution_count": 14,
   "id": "41adbbed",
   "metadata": {},
   "outputs": [
    {
     "data": {
      "image/png": "[encoded data removed]",
      "text/plain": [
       "<Figure size 640x480 with 1 Axes>"
      ]
     },
     "metadata": {},
     "output_type": "display_data"
    }
   ],
   "source": [
    "import pandas as pd\n",
    "import matplotlib.pyplot as plt\n",
    "\n",
    "# Sample data\n",
    "data = {\n",
    "    'Course': ['Python', 'Java', 'C++', 'JavaScript'],\n",
    "    'Fee': [15000, 12000, 10000, 13000],\n",
    "    'Discount': [2000, 1500, 1000, 1800]\n",
    "}\n",
    "\n",
    "df = pd.DataFrame(data)\n",
    "\n",
    "# Plotting Fee vs. Discount using line plot\n",
    "df.plot(\n",
    "    x='Fee',\n",
    "    y='Discount',\n",
    "    kind='line',\n",
    "    marker='o',\n",
    "    linestyle='-',\n",
    "    title='Fee vs Discount Line Chart'\n",
    ")\n",
    "\n",
    "plt.xlabel('Fee')\n",
    "plt.ylabel('Discount')\n",
    "plt.grid(True)\n",
    "plt.tight_layout()\n",
    "plt.show()\n",
    "\n"
   ]
  },
  {
   "cell_type": "code",
   "execution_count": 15,
   "id": "14736b06",
   "metadata": {},
   "outputs": [
    {
     "data": {
      "image/png": "[encoded data removed]",
      "text/plain": [
       "<Figure size 640x480 with 1 Axes>"
      ]
     },
     "metadata": {},
     "output_type": "display_data"
    }
   ],
   "source": [
    "import pandas as pd\n",
    "import matplotlib.pyplot as plt\n",
    "\n",
    "# Sample DataFrame\n",
    "data = {\n",
    "    'Name': ['Ali', 'Khan', 'Faheem', 'Qasim'],\n",
    "    'Age': [25, 28, 22, 30]\n",
    "}\n",
    "\n",
    "bn = pd.DataFrame(data)\n",
    "\n",
    "# Proper way to plot Name vs Age as a line chart\n",
    "bn.plot(\n",
    "    x='Name',\n",
    "    y='Age',\n",
    "    kind='line',\n",
    "    marker='o',\n",
    "    linestyle='-'\n",
    ")\n",
    "\n",
    "plt.title('Age of Participants')\n",
    "plt.xlabel('Name')\n",
    "plt.ylabel('Age')\n",
    "plt.grid(True)\n",
    "plt.tight_layout()\n",
    "plt.show()\n"
   ]
  },
  {
   "cell_type": "markdown",
   "id": "adb68493",
   "metadata": {},
   "source": [
    "*Real Time CSV  Importing*"
   ]
  },
  {
   "cell_type": "code",
   "execution_count": 17,
   "id": "510cc9c9",
   "metadata": {},
   "outputs": [
    {
     "name": "stdout",
     "output_type": "stream",
     "text": [
      "         Afghanistan Unnamed: 1            Unnamed: 2\n",
      "0                NaN        NaN                   NaN\n",
      "1           District   Province                Region\n",
      "2            Bagrami      Kabul  Capital Region Kabul\n",
      "3      Chahar Asyab       Kabul  Capital Region Kabul\n",
      "4           Deh Sabz      Kabul  Capital Region Kabul\n",
      "..               ...        ...                   ...\n",
      "408    Kushk-e-Kohna      Herat      West Afghanistan\n",
      "409              Obe      Herat      West Afghanistan\n",
      "410  Pashtun Zarghun      Herat      West Afghanistan\n",
      "411         Shindand      Herat      West Afghanistan\n",
      "412        Zinda Jan      Herat      West Afghanistan\n",
      "\n",
      "[413 rows x 3 columns]\n"
     ]
    }
   ],
   "source": [
    "# import CSV file \n",
    "import pandas as pd \n",
    "\n",
    "\n",
    "\n",
    "# Replace 'your_file.csv' with the actual path to your CSV file\n",
    "Local_Data = pd.read_csv(r\"C:\\Users\\This PC\\Documents\\List of Districts, Provinces and Region_Afghanistan.csv\")\n",
    "\n",
    "\n",
    "#Display the first few rows\n",
    "print(Local_Data)\n"
   ]
  },
  {
   "cell_type": "code",
   "execution_count": 18,
   "id": "b9d1d149",
   "metadata": {},
   "outputs": [
    {
     "name": "stdout",
     "output_type": "stream",
     "text": [
      "Average Score by City:\n",
      "City\n",
      "Islamabad    92.0\n",
      "Karachi      83.0\n",
      "Lahore       87.5\n",
      "Name: Score, dtype: float64\n"
     ]
    }
   ],
   "source": [
    "import pandas as pd\n",
    "\n",
    "# Sample dataset of students in different cities\n",
    "data = {\n",
    "    'City': ['Lahore', 'Lahore', 'Karachi', 'Karachi', 'Islamabad'],\n",
    "    'Student': ['Ali', 'Zara', 'Bilal', 'Fatima', 'Usman'],\n",
    "    'Score': [85, 90, 78, 88, 92]\n",
    "}\n",
    "\n",
    "df = pd.DataFrame(data)\n",
    "\n",
    "# Group by 'City' and calculate average score\n",
    "grouped_scores = df.groupby('City')['Score'].mean()\n",
    "\n",
    "print(\"Average Score by City:\")\n",
    "print(grouped_scores)\n"
   ]
  },
  {
   "cell_type": "code",
   "execution_count": 19,
   "id": "332d9bb9",
   "metadata": {},
   "outputs": [
    {
     "name": "stdout",
     "output_type": "stream",
     "text": [
      "Sorted by Marks\n",
      "    Name  Marks\n",
      "3  Zahra     99\n",
      "2  Javid     95\n",
      "1  Hamid     90\n",
      "0    Ali     60\n"
     ]
    }
   ],
   "source": [
    "import pandas as pd \n",
    "\n",
    "# Corrected dataset\n",
    "Final_Result = {\n",
    "    'Name': ['Ali', 'Hamid', 'Javid', 'Zahra'], \n",
    "    'Marks': [60, 90, 95, 99]\n",
    "}\n",
    "\n",
    "df = pd.DataFrame(Final_Result)\n",
    "\n",
    "# Sort by Marks in descending order\n",
    "Sorted_df = df.sort_values(by='Marks', ascending=False)\n",
    "\n",
    "print(\"Sorted by Marks\")\n",
    "print(Sorted_df)\n"
   ]
  }
 ],
 "metadata": {
  "kernelspec": {
   "display_name": "Python 3",
   "language": "python",
   "name": "python3"
  },
  "language_info": {
   "codemirror_mode": {
    "name": "ipython",
    "version": 3
   },
   "file_extension": ".py",
   "mimetype": "text/x-python",
   "name": "python",
   "nbconvert_exporter": "python",
   "pygments_lexer": "ipython3",
   "version": "3.13.5"
  }
 },
 "nbformat": 4,
 "nbformat_minor": 5
}
